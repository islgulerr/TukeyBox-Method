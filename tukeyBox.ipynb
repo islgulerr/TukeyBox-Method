{
 "cells": [
  {
   "cell_type": "markdown",
   "metadata": {},
   "source": [
    "BEGÜM ÖZBAY-16050111035 & IŞIL GÜLER-16050111023"
   ]
  },
  {
   "cell_type": "code",
   "execution_count": 1,
   "metadata": {},
   "outputs": [],
   "source": [
    "# importing libraries\n",
    "import pandas as pd\n",
    "import numpy as np\n",
    "from matplotlib import pyplot as plt"
   ]
  },
  {
   "cell_type": "markdown",
   "metadata": {},
   "source": [
    "Fit line using linear regression on all input data"
   ]
  },
  {
   "cell_type": "code",
   "execution_count": 2,
   "metadata": {},
   "outputs": [
    {
     "data": {
      "text/html": [
       "<div>\n",
       "<style scoped>\n",
       "    .dataframe tbody tr th:only-of-type {\n",
       "        vertical-align: middle;\n",
       "    }\n",
       "\n",
       "    .dataframe tbody tr th {\n",
       "        vertical-align: top;\n",
       "    }\n",
       "\n",
       "    .dataframe thead th {\n",
       "        text-align: right;\n",
       "    }\n",
       "</style>\n",
       "<table border=\"1\" class=\"dataframe\">\n",
       "  <thead>\n",
       "    <tr style=\"text-align: right;\">\n",
       "      <th></th>\n",
       "      <th>X</th>\n",
       "      <th>y</th>\n",
       "    </tr>\n",
       "  </thead>\n",
       "  <tbody>\n",
       "    <tr>\n",
       "      <th>0</th>\n",
       "      <td>-54.1890</td>\n",
       "      <td>-41.587</td>\n",
       "    </tr>\n",
       "    <tr>\n",
       "      <th>1</th>\n",
       "      <td>-45.0970</td>\n",
       "      <td>-35.040</td>\n",
       "    </tr>\n",
       "    <tr>\n",
       "      <th>2</th>\n",
       "      <td>-33.6750</td>\n",
       "      <td>-27.457</td>\n",
       "    </tr>\n",
       "    <tr>\n",
       "      <th>3</th>\n",
       "      <td>-15.2220</td>\n",
       "      <td>-14.904</td>\n",
       "    </tr>\n",
       "    <tr>\n",
       "      <th>4</th>\n",
       "      <td>-7.3334</td>\n",
       "      <td>-7.841</td>\n",
       "    </tr>\n",
       "  </tbody>\n",
       "</table>\n",
       "</div>"
      ],
      "text/plain": [
       "         X       y\n",
       "0 -54.1890 -41.587\n",
       "1 -45.0970 -35.040\n",
       "2 -33.6750 -27.457\n",
       "3 -15.2220 -14.904\n",
       "4  -7.3334  -7.841"
      ]
     },
     "execution_count": 2,
     "metadata": {},
     "output_type": "execute_result"
    }
   ],
   "source": [
    "data = pd.read_csv(\"data.csv\")\n",
    "X=data.get('x')\n",
    "y=data.get('y')\n",
    "# Create pandas dataframe to store our X and y values\n",
    "df = pd.DataFrame(\n",
    "    {'X': X,\n",
    "     'y': y}\n",
    ")\n",
    "\n",
    "# Show the first five rows of our dataframe\n",
    "df.head()"
   ]
  },
  {
   "cell_type": "code",
   "execution_count": 3,
   "metadata": {},
   "outputs": [
    {
     "name": "stdout",
     "output_type": "stream",
     "text": [
      "alpha = -9.4480052927321\n",
      "beta = 0.4865910742427578\n"
     ]
    }
   ],
   "source": [
    "# Calculate the mean of X and y\n",
    "xmean = np.mean(X)\n",
    "ymean = np.mean(y)\n",
    "\n",
    "# Calculate the terms needed for the numator and denominator of beta\n",
    "df['xycov'] = (df['X'] - xmean) * (df['y'] - ymean)\n",
    "df['xvar'] = (df['X'] - xmean)**2\n",
    "\n",
    "# Calculate beta and alpha\n",
    "beta = df['xycov'].sum() / df['xvar'].sum()\n",
    "alpha = ymean - (beta * xmean)\n",
    "print(f'alpha = {alpha}')\n",
    "print(f'beta = {beta}')"
   ]
  },
  {
   "cell_type": "code",
   "execution_count": 4,
   "metadata": {},
   "outputs": [],
   "source": [
    "# regression line equation\n",
    "y_pred = alpha + beta * X"
   ]
  },
  {
   "cell_type": "code",
   "execution_count": 5,
   "metadata": {
    "scrolled": false
   },
   "outputs": [
    {
     "data": {
      "image/png": "[encoded data removed]",
      "text/plain": [
       "<Figure size 864x432 with 1 Axes>"
      ]
     },
     "metadata": {
      "needs_background": "light"
     },
     "output_type": "display_data"
    }
   ],
   "source": [
    "# Plot regression against actual data\n",
    "plt.figure(figsize=(12, 6))\n",
    "plt.plot(X, y_pred, c='b')     # regression line\n",
    "plt.plot(X, y, 'ro', c='g')   # scatter plot showing actual data\n",
    "plt.title('Actual vs Predicted')\n",
    "plt.xlabel('X')\n",
    "plt.ylabel('y')\n",
    "\n",
    "plt.show()"
   ]
  },
  {
   "cell_type": "code",
   "execution_count": 6,
   "metadata": {},
   "outputs": [
    {
     "data": {
      "text/plain": [
       "0       33.305722\n",
       "1       13.309342\n",
       "2        2.634260\n",
       "3        3.805990\n",
       "4       26.784478\n",
       "5        4.911149\n",
       "6        9.418264\n",
       "7        0.475049\n",
       "8       10.077446\n",
       "9        2.931295\n",
       "10       1.532059\n",
       "11      40.644838\n",
       "12       0.111551\n",
       "13      14.045094\n",
       "14      12.287881\n",
       "15     103.645588\n",
       "16      14.538267\n",
       "17       4.733291\n",
       "18       0.566077\n",
       "19      25.394985\n",
       "20       2.033866\n",
       "21       1.476907\n",
       "22       1.132787\n",
       "23       0.003604\n",
       "24       1.184885\n",
       "25     102.044518\n",
       "26      13.100346\n",
       "27      95.230050\n",
       "28      91.318899\n",
       "29       0.645923\n",
       "30       9.200210\n",
       "31       2.643193\n",
       "32      90.323680\n",
       "33       0.292556\n",
       "34       0.694612\n",
       "35       5.838967\n",
       "36       2.932739\n",
       "37     102.357026\n",
       "38      39.081338\n",
       "39    4347.435425\n",
       "40      73.095912\n",
       "41      18.863624\n",
       "42      79.778635\n",
       "43      29.533166\n",
       "44      12.603603\n",
       "45       0.597182\n",
       "46       0.000232\n",
       "47      11.617432\n",
       "48      51.020794\n",
       "49    1074.193330\n",
       "dtype: float64"
      ]
     },
     "execution_count": 6,
     "metadata": {},
     "output_type": "execute_result"
    }
   ],
   "source": [
    "#find squared residual distances\n",
    "rss = ((y- y_pred) ** 2)\n",
    "rss"
   ]
  },
  {
   "cell_type": "code",
   "execution_count": 7,
   "metadata": {
    "scrolled": true
   },
   "outputs": [
    {
     "name": "stdout",
     "output_type": "stream",
     "text": [
      "35.979923365650414\n",
      "-106.28225960154141\n",
      "145.57720395801147\n"
     ]
    }
   ],
   "source": [
    "# use Tukey method to find outliers on 'squared residual distances\n",
    "q1, q3= np.percentile(rss,[25,75])\n",
    "iqr = q3 - q1  # the IQR value\n",
    "lower_bound = q1 -(3 * iqr) # lower bound\n",
    "upper_bound = q3 +(3 * iqr) # upper bound\n",
    "print(iqr)\n",
    "print(lower_bound)\n",
    "print(upper_bound)"
   ]
  },
  {
   "cell_type": "code",
   "execution_count": 8,
   "metadata": {
    "scrolled": true
   },
   "outputs": [
    {
     "data": {
      "text/html": [
       "<div>\n",
       "<style scoped>\n",
       "    .dataframe tbody tr th:only-of-type {\n",
       "        vertical-align: middle;\n",
       "    }\n",
       "\n",
       "    .dataframe tbody tr th {\n",
       "        vertical-align: top;\n",
       "    }\n",
       "\n",
       "    .dataframe thead th {\n",
       "        text-align: right;\n",
       "    }\n",
       "</style>\n",
       "<table border=\"1\" class=\"dataframe\">\n",
       "  <thead>\n",
       "    <tr style=\"text-align: right;\">\n",
       "      <th></th>\n",
       "      <th>x</th>\n",
       "      <th>y</th>\n",
       "    </tr>\n",
       "  </thead>\n",
       "  <tbody>\n",
       "    <tr>\n",
       "      <th>0</th>\n",
       "      <td>-54.1890</td>\n",
       "      <td>-41.58700</td>\n",
       "    </tr>\n",
       "    <tr>\n",
       "      <th>1</th>\n",
       "      <td>-45.0970</td>\n",
       "      <td>-35.04000</td>\n",
       "    </tr>\n",
       "    <tr>\n",
       "      <th>2</th>\n",
       "      <td>-33.6750</td>\n",
       "      <td>-27.45700</td>\n",
       "    </tr>\n",
       "    <tr>\n",
       "      <th>3</th>\n",
       "      <td>-15.2220</td>\n",
       "      <td>-14.90400</td>\n",
       "    </tr>\n",
       "    <tr>\n",
       "      <th>4</th>\n",
       "      <td>-7.3334</td>\n",
       "      <td>-7.84100</td>\n",
       "    </tr>\n",
       "    <tr>\n",
       "      <th>5</th>\n",
       "      <td>-39.1990</td>\n",
       "      <td>-30.73800</td>\n",
       "    </tr>\n",
       "    <tr>\n",
       "      <th>6</th>\n",
       "      <td>-50.8560</td>\n",
       "      <td>-37.26300</td>\n",
       "    </tr>\n",
       "    <tr>\n",
       "      <th>7</th>\n",
       "      <td>-24.9660</td>\n",
       "      <td>-20.90700</td>\n",
       "    </tr>\n",
       "    <tr>\n",
       "      <th>8</th>\n",
       "      <td>-49.1840</td>\n",
       "      <td>-36.55500</td>\n",
       "    </tr>\n",
       "    <tr>\n",
       "      <th>9</th>\n",
       "      <td>-19.7930</td>\n",
       "      <td>-17.36700</td>\n",
       "    </tr>\n",
       "    <tr>\n",
       "      <th>10</th>\n",
       "      <td>-38.1290</td>\n",
       "      <td>-29.23900</td>\n",
       "    </tr>\n",
       "    <tr>\n",
       "      <th>11</th>\n",
       "      <td>-6.1060</td>\n",
       "      <td>-6.04380</td>\n",
       "    </tr>\n",
       "    <tr>\n",
       "      <th>12</th>\n",
       "      <td>-27.7810</td>\n",
       "      <td>-22.63200</td>\n",
       "    </tr>\n",
       "    <tr>\n",
       "      <th>13</th>\n",
       "      <td>-13.6720</td>\n",
       "      <td>-12.35300</td>\n",
       "    </tr>\n",
       "    <tr>\n",
       "      <th>14</th>\n",
       "      <td>-34.2990</td>\n",
       "      <td>-29.64300</td>\n",
       "    </tr>\n",
       "    <tr>\n",
       "      <th>15</th>\n",
       "      <td>19.6990</td>\n",
       "      <td>10.31800</td>\n",
       "    </tr>\n",
       "    <tr>\n",
       "      <th>16</th>\n",
       "      <td>-13.2820</td>\n",
       "      <td>-12.09800</td>\n",
       "    </tr>\n",
       "    <tr>\n",
       "      <th>17</th>\n",
       "      <td>-20.5380</td>\n",
       "      <td>-17.26600</td>\n",
       "    </tr>\n",
       "    <tr>\n",
       "      <th>18</th>\n",
       "      <td>-41.5310</td>\n",
       "      <td>-30.40900</td>\n",
       "    </tr>\n",
       "    <tr>\n",
       "      <th>19</th>\n",
       "      <td>-8.1969</td>\n",
       "      <td>-8.39720</td>\n",
       "    </tr>\n",
       "    <tr>\n",
       "      <th>20</th>\n",
       "      <td>-36.8890</td>\n",
       "      <td>-28.82400</td>\n",
       "    </tr>\n",
       "    <tr>\n",
       "      <th>21</th>\n",
       "      <td>-38.3540</td>\n",
       "      <td>-29.32600</td>\n",
       "    </tr>\n",
       "    <tr>\n",
       "      <th>22</th>\n",
       "      <td>-29.1470</td>\n",
       "      <td>-24.69500</td>\n",
       "    </tr>\n",
       "    <tr>\n",
       "      <th>23</th>\n",
       "      <td>-28.3050</td>\n",
       "      <td>-23.28100</td>\n",
       "    </tr>\n",
       "    <tr>\n",
       "      <th>24</th>\n",
       "      <td>-27.4430</td>\n",
       "      <td>-21.71300</td>\n",
       "    </tr>\n",
       "    <tr>\n",
       "      <th>25</th>\n",
       "      <td>18.2120</td>\n",
       "      <td>9.51550</td>\n",
       "    </tr>\n",
       "    <tr>\n",
       "      <th>26</th>\n",
       "      <td>-2.0371</td>\n",
       "      <td>-6.81980</td>\n",
       "    </tr>\n",
       "    <tr>\n",
       "      <th>27</th>\n",
       "      <td>12.1250</td>\n",
       "      <td>6.21050</td>\n",
       "    </tr>\n",
       "    <tr>\n",
       "      <th>28</th>\n",
       "      <td>-68.5810</td>\n",
       "      <td>-52.37500</td>\n",
       "    </tr>\n",
       "    <tr>\n",
       "      <th>29</th>\n",
       "      <td>-20.5320</td>\n",
       "      <td>-18.63500</td>\n",
       "    </tr>\n",
       "    <tr>\n",
       "      <th>30</th>\n",
       "      <td>-17.9970</td>\n",
       "      <td>-15.17200</td>\n",
       "    </tr>\n",
       "    <tr>\n",
       "      <th>31</th>\n",
       "      <td>-21.4570</td>\n",
       "      <td>-18.26300</td>\n",
       "    </tr>\n",
       "    <tr>\n",
       "      <th>32</th>\n",
       "      <td>17.9710</td>\n",
       "      <td>8.80040</td>\n",
       "    </tr>\n",
       "    <tr>\n",
       "      <th>33</th>\n",
       "      <td>-25.3480</td>\n",
       "      <td>-22.32300</td>\n",
       "    </tr>\n",
       "    <tr>\n",
       "      <th>34</th>\n",
       "      <td>-31.2060</td>\n",
       "      <td>-25.46600</td>\n",
       "    </tr>\n",
       "    <tr>\n",
       "      <th>35</th>\n",
       "      <td>-8.6405</td>\n",
       "      <td>-11.23600</td>\n",
       "    </tr>\n",
       "    <tr>\n",
       "      <th>36</th>\n",
       "      <td>-39.9010</td>\n",
       "      <td>-30.57600</td>\n",
       "    </tr>\n",
       "    <tr>\n",
       "      <th>37</th>\n",
       "      <td>17.5450</td>\n",
       "      <td>9.20640</td>\n",
       "    </tr>\n",
       "    <tr>\n",
       "      <th>38</th>\n",
       "      <td>5.1974</td>\n",
       "      <td>-0.66749</td>\n",
       "    </tr>\n",
       "    <tr>\n",
       "      <th>40</th>\n",
       "      <td>-3.9146</td>\n",
       "      <td>-2.80320</td>\n",
       "    </tr>\n",
       "    <tr>\n",
       "      <th>41</th>\n",
       "      <td>-10.9090</td>\n",
       "      <td>-10.41300</td>\n",
       "    </tr>\n",
       "    <tr>\n",
       "      <th>42</th>\n",
       "      <td>9.7721</td>\n",
       "      <td>4.23890</td>\n",
       "    </tr>\n",
       "    <tr>\n",
       "      <th>43</th>\n",
       "      <td>-12.2950</td>\n",
       "      <td>-9.99620</td>\n",
       "    </tr>\n",
       "    <tr>\n",
       "      <th>44</th>\n",
       "      <td>-15.3890</td>\n",
       "      <td>-13.38600</td>\n",
       "    </tr>\n",
       "    <tr>\n",
       "      <th>45</th>\n",
       "      <td>-33.8790</td>\n",
       "      <td>-26.70600</td>\n",
       "    </tr>\n",
       "    <tr>\n",
       "      <th>46</th>\n",
       "      <td>-30.4840</td>\n",
       "      <td>-24.26600</td>\n",
       "    </tr>\n",
       "    <tr>\n",
       "      <th>47</th>\n",
       "      <td>-15.7410</td>\n",
       "      <td>-13.69900</td>\n",
       "    </tr>\n",
       "    <tr>\n",
       "      <th>48</th>\n",
       "      <td>-1.7616</td>\n",
       "      <td>-3.16230</td>\n",
       "    </tr>\n",
       "  </tbody>\n",
       "</table>\n",
       "</div>"
      ],
      "text/plain": [
       "          x         y\n",
       "0  -54.1890 -41.58700\n",
       "1  -45.0970 -35.04000\n",
       "2  -33.6750 -27.45700\n",
       "3  -15.2220 -14.90400\n",
       "4   -7.3334  -7.84100\n",
       "5  -39.1990 -30.73800\n",
       "6  -50.8560 -37.26300\n",
       "7  -24.9660 -20.90700\n",
       "8  -49.1840 -36.55500\n",
       "9  -19.7930 -17.36700\n",
       "10 -38.1290 -29.23900\n",
       "11  -6.1060  -6.04380\n",
       "12 -27.7810 -22.63200\n",
       "13 -13.6720 -12.35300\n",
       "14 -34.2990 -29.64300\n",
       "15  19.6990  10.31800\n",
       "16 -13.2820 -12.09800\n",
       "17 -20.5380 -17.26600\n",
       "18 -41.5310 -30.40900\n",
       "19  -8.1969  -8.39720\n",
       "20 -36.8890 -28.82400\n",
       "21 -38.3540 -29.32600\n",
       "22 -29.1470 -24.69500\n",
       "23 -28.3050 -23.28100\n",
       "24 -27.4430 -21.71300\n",
       "25  18.2120   9.51550\n",
       "26  -2.0371  -6.81980\n",
       "27  12.1250   6.21050\n",
       "28 -68.5810 -52.37500\n",
       "29 -20.5320 -18.63500\n",
       "30 -17.9970 -15.17200\n",
       "31 -21.4570 -18.26300\n",
       "32  17.9710   8.80040\n",
       "33 -25.3480 -22.32300\n",
       "34 -31.2060 -25.46600\n",
       "35  -8.6405 -11.23600\n",
       "36 -39.9010 -30.57600\n",
       "37  17.5450   9.20640\n",
       "38   5.1974  -0.66749\n",
       "40  -3.9146  -2.80320\n",
       "41 -10.9090 -10.41300\n",
       "42   9.7721   4.23890\n",
       "43 -12.2950  -9.99620\n",
       "44 -15.3890 -13.38600\n",
       "45 -33.8790 -26.70600\n",
       "46 -30.4840 -24.26600\n",
       "47 -15.7410 -13.69900\n",
       "48  -1.7616  -3.16230"
      ]
     },
     "execution_count": 8,
     "metadata": {},
     "output_type": "execute_result"
    }
   ],
   "source": [
    "# remove outliers from new input data\n",
    "new_data = data[~((rss < (lower_bound)) | (rss > (upper_bound)))]\n",
    "new_data"
   ]
  },
  {
   "cell_type": "code",
   "execution_count": 9,
   "metadata": {},
   "outputs": [
    {
     "data": {
      "text/html": [
       "<div>\n",
       "<style scoped>\n",
       "    .dataframe tbody tr th:only-of-type {\n",
       "        vertical-align: middle;\n",
       "    }\n",
       "\n",
       "    .dataframe tbody tr th {\n",
       "        vertical-align: top;\n",
       "    }\n",
       "\n",
       "    .dataframe thead th {\n",
       "        text-align: right;\n",
       "    }\n",
       "</style>\n",
       "<table border=\"1\" class=\"dataframe\">\n",
       "  <thead>\n",
       "    <tr style=\"text-align: right;\">\n",
       "      <th></th>\n",
       "      <th>X</th>\n",
       "      <th>y</th>\n",
       "    </tr>\n",
       "  </thead>\n",
       "  <tbody>\n",
       "    <tr>\n",
       "      <th>0</th>\n",
       "      <td>-54.1890</td>\n",
       "      <td>-41.587</td>\n",
       "    </tr>\n",
       "    <tr>\n",
       "      <th>1</th>\n",
       "      <td>-45.0970</td>\n",
       "      <td>-35.040</td>\n",
       "    </tr>\n",
       "    <tr>\n",
       "      <th>2</th>\n",
       "      <td>-33.6750</td>\n",
       "      <td>-27.457</td>\n",
       "    </tr>\n",
       "    <tr>\n",
       "      <th>3</th>\n",
       "      <td>-15.2220</td>\n",
       "      <td>-14.904</td>\n",
       "    </tr>\n",
       "    <tr>\n",
       "      <th>4</th>\n",
       "      <td>-7.3334</td>\n",
       "      <td>-7.841</td>\n",
       "    </tr>\n",
       "  </tbody>\n",
       "</table>\n",
       "</div>"
      ],
      "text/plain": [
       "         X       y\n",
       "0 -54.1890 -41.587\n",
       "1 -45.0970 -35.040\n",
       "2 -33.6750 -27.457\n",
       "3 -15.2220 -14.904\n",
       "4  -7.3334  -7.841"
      ]
     },
     "execution_count": 9,
     "metadata": {},
     "output_type": "execute_result"
    }
   ],
   "source": [
    "X2=new_data.get('x')\n",
    "y2=new_data.get('y')\n",
    "# Create pandas dataframe to store our X and y values\n",
    "df2 = pd.DataFrame(\n",
    "    {'X': X2,\n",
    "     'y': y2}\n",
    ")\n",
    "\n",
    "# Show the first five rows of our dataframe\n",
    "df2.head()"
   ]
  },
  {
   "cell_type": "code",
   "execution_count": 10,
   "metadata": {
    "scrolled": false
   },
   "outputs": [
    {
     "data": {
      "image/png": "[encoded data removed]",
      "text/plain": [
       "<Figure size 864x432 with 1 Axes>"
      ]
     },
     "metadata": {
      "needs_background": "light"
     },
     "output_type": "display_data"
    }
   ],
   "source": [
    "# Plot regression against actual data\n",
    "plt.figure(figsize=(12, 6))\n",
    "plt.plot(X, y_pred, c='b') # regression line\n",
    "plt.plot(X, y, 'ro', c='r')\n",
    "plt.plot(X2, y2, 'ro', c='g') # scatter plot showing actual data\n",
    "plt.title('Actual vs Predicted')\n",
    "plt.xlabel('X')\n",
    "plt.ylabel('y')\n",
    "\n",
    "plt.show()"
   ]
  },
  {
   "cell_type": "code",
   "execution_count": null,
   "metadata": {},
   "outputs": [],
   "source": []
  },
  {
   "cell_type": "markdown",
   "metadata": {},
   "source": [
    "Fit line using linear regression on all input data"
   ]
  },
  {
   "cell_type": "code",
   "execution_count": 11,
   "metadata": {},
   "outputs": [
    {
     "name": "stdout",
     "output_type": "stream",
     "text": [
      "alpha = -3.069522390898735\n",
      "beta = 0.7020776098900166\n"
     ]
    }
   ],
   "source": [
    "# Calculate the mean of X and y\n",
    "xmean2 = np.mean(X2)\n",
    "ymean2 = np.mean(y2)\n",
    "\n",
    "# Calculate the terms needed for the numator and denominator of beta\n",
    "df2['xycov'] = (df2['X'] - xmean2) * (df2['y'] - ymean2)\n",
    "df2['xvar'] = (df2['X'] - xmean2)**2\n",
    "\n",
    "# Calculate beta and alpha\n",
    "beta2 = df2['xycov'].sum() / df2['xvar'].sum()\n",
    "alpha2 = ymean2 - (beta2 * xmean2)\n",
    "print(f'alpha = {alpha2}')\n",
    "print(f'beta = {beta2}')"
   ]
  },
  {
   "cell_type": "code",
   "execution_count": 12,
   "metadata": {},
   "outputs": [],
   "source": [
    "# regression line equation\n",
    "y_pred2 = alpha2 + beta2 * X2"
   ]
  },
  {
   "cell_type": "code",
   "execution_count": 13,
   "metadata": {},
   "outputs": [
    {
     "data": {
      "image/png": "[encoded data removed]",
      "text/plain": [
       "<Figure size 864x432 with 1 Axes>"
      ]
     },
     "metadata": {
      "needs_background": "light"
     },
     "output_type": "display_data"
    }
   ],
   "source": [
    "# Plot regression against actual data\n",
    "plt.figure(figsize=(12, 6))\n",
    "plt.plot(X2, y_pred2, c='b') # regression line\n",
    "plt.plot(X, y, 'ro', c='r')  # outliers\n",
    "plt.plot(X2, y2, 'ro', c='g') # scatter plot showing actual data, inliers\n",
    "plt.title('Actual vs Predicted')\n",
    "plt.xlabel('X')\n",
    "plt.ylabel('y')\n",
    "\n",
    "plt.show()"
   ]
  },
  {
   "cell_type": "code",
   "execution_count": null,
   "metadata": {},
   "outputs": [],
   "source": []
  }
 ],
 "metadata": {
  "kernelspec": {
   "display_name": "Python 3",
   "language": "python",
   "name": "python3"
  },
  "language_info": {
   "codemirror_mode": {
    "name": "ipython",
    "version": 3
   },
   "file_extension": ".py",
   "mimetype": "text/x-python",
   "name": "python",
   "nbconvert_exporter": "python",
   "pygments_lexer": "ipython3",
   "version": "3.8.3"
  }
 },
 "nbformat": 4,
 "nbformat_minor": 4
}
